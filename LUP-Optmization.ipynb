{
 "cells": [
  {
   "cell_type": "markdown",
   "metadata": {},
   "source": [
    "# Python Programming Code for Optimization\n",
    "\n",
    "## Optimization of Residential Green Space for Environmental Sustainability and Property Appreciation in Metropolitan Phoenix, Arizona\n",
    "\n",
    "## Chuyuan Wang, V. Kelly Turner, Elizabeth Wentz, Qunshan Zhao, Soe Myint"
   ]
  },
  {
   "cell_type": "code",
   "execution_count": 4,
   "metadata": {},
   "outputs": [
    {
     "name": "stdout",
     "output_type": "stream",
     "text": [
      "Using license file /Users/qszhao/gurobi.lic\n",
      "Academic license - for non-commercial use only\n"
     ]
    }
   ],
   "source": [
    "# Python API: https://www.gurobi.com/documentation/9.0/refman/py_python_api_overview.html\n",
    "from gurobipy import *\n",
    "m1 = Model()"
   ]
  },
  {
   "cell_type": "code",
   "execution_count": 5,
   "metadata": {},
   "outputs": [],
   "source": [
    "# x1 = grass_p\n",
    "# x2 = shrub_p\n",
    "# x3 = tree_p\n",
    "# x4 = soil_p\n",
    "\n",
    "x1 = m1.addVar(vtype=GRB.INTEGER, name=\"x1\")\n",
    "x2 = m1.addVar(vtype=GRB.INTEGER, name=\"x2\")\n",
    "x3 = m1.addVar(vtype=GRB.INTEGER, name=\"x3\")\n",
    "x4 = m1.addVar(vtype=GRB.INTEGER, name=\"x4\")"
   ]
  },
  {
   "cell_type": "markdown",
   "metadata": {},
   "source": [
    "# OLS regression results (remove insignificant parameters)\n",
    "\n",
    "#### LST = -0.131* x1 - 0.127 * x2 - 0.235 * x3 + 0 * x4 + 53.698\n",
    "#### ET = 8.774* x1 + 0 * x2 + 4.885 * x3 - 1.816 * x4 + 394.004\n",
    "#### PSV = 52.638 * x1 + 27.657 * x2 + 19.698 * x3 + 12.297 * x4 - 615.858\n",
    "\n",
    "\n"
   ]
  },
  {
   "cell_type": "code",
   "execution_count": 25,
   "metadata": {},
   "outputs": [],
   "source": [
    "def Value(x):\n",
    "    x = [x1,x2,x3,x4]\n",
    "    ET = 8.774* x1 + 0 * x2 + 4.885 * x3 - 1.816 * x4 + 394.004\n",
    "    LST = -0.131* x1 - 0.127 * x2 - 0.235 * x3 + 0 * x4 + 53.698\n",
    "    PSV = 52.638 * x1 + 27.657 * x2 + 19.698 * x3 + 12.297 * x4 - 615.858\n",
    "    return ('ET = %g' %ET, \"LST = %g\" %LST, \"PSV = %g\" %PSV, \"ET + LST = %g\" %(ET+LST))\n",
    "#    return (ET, LST, PSV, ET + LST)"
   ]
  },
  {
   "cell_type": "markdown",
   "metadata": {},
   "source": [
    "# Objective function \n",
    "\n",
    "# Minimize ET+LST"
   ]
  },
  {
   "cell_type": "code",
   "execution_count": 14,
   "metadata": {},
   "outputs": [],
   "source": [
    "m1.setObjective(ET + LST, GRB.MINIMIZE)"
   ]
  },
  {
   "cell_type": "markdown",
   "metadata": {},
   "source": [
    "# Contraints"
   ]
  },
  {
   "cell_type": "code",
   "execution_count": 15,
   "metadata": {},
   "outputs": [],
   "source": [
    "c1 = m1.addConstr(x1 + x2 + x3 <= 43)\n",
    "c2 = m1.addConstr(x1 + x2 + x3 + x4 <=85)\n",
    "c3 = m1.addConstr(x1 + x2 + x3 + x4 >=12)\n",
    "c4 = m1.addConstr(x1 >= 0)\n",
    "c5 = m1.addConstr(x1 <= 18)\n",
    "c6 = m1.addConstr(x2 >= 0)\n",
    "c7 = m1.addConstr(x2 <= 13)\n",
    "c8 = m1.addConstr(x3 >= 0)\n",
    "c9 = m1.addConstr(x3 <= 29)\n",
    "c10 = m1.addConstr(x4 >= 7)\n",
    "c11 = m1.addConstr(x4 <= 65)\n",
    "c12 = m1.addConstr(ET <= 452.75)\n",
    "c13 = m1.addConstr(ET >= 104.89)\n",
    "c14 = m1.addConstr(LST <= 50.26)\n",
    "c15 = m1.addConstr(LST >= 41.45)\n",
    "c16 = m1.addConstr(PSV >= 30.85)"
   ]
  },
  {
   "cell_type": "markdown",
   "metadata": {},
   "source": [
    "# Find top 100 sub-optimal solutions"
   ]
  },
  {
   "cell_type": "code",
   "execution_count": 16,
   "metadata": {},
   "outputs": [
    {
     "name": "stdout",
     "output_type": "stream",
     "text": [
      "Parameter PoolSolutions unchanged\n",
      "   Value: 100  Min: 1  Max: 2000000000  Default: 10\n",
      "Parameter PoolSearchMode unchanged\n",
      "   Value: 2  Min: 0  Max: 2  Default: 0\n"
     ]
    }
   ],
   "source": [
    "# Find sub-optimal solutions:\n",
    "# https://www.gurobi.com/documentation/9.0/examples/poolsearch_py.html\n",
    "# https://www.gurobi.com/documentation/9.0/refman/solution_pool.html\n",
    "m1.setParam(GRB.Param.PoolSolutions, 100)\n",
    "m1.setParam(GRB.Param.PoolSearchMode, 2)"
   ]
  },
  {
   "cell_type": "code",
   "execution_count": 17,
   "metadata": {},
   "outputs": [
    {
     "name": "stdout",
     "output_type": "stream",
     "text": [
      "Gurobi Optimizer version 9.0.2 build v9.0.2rc0 (mac64)\n",
      "Optimize a model with 32 rows, 4 columns and 51 nonzeros\n",
      "Model fingerprint: 0x5d40b8a2\n",
      "Variable types: 0 continuous, 4 integer (0 binary)\n",
      "Coefficient statistics:\n",
      "  Matrix range     [1e-01, 5e+01]\n",
      "  Objective range  [1e-01, 9e+00]\n",
      "  Bounds range     [0e+00, 0e+00]\n",
      "  RHS range        [3e+00, 6e+02]\n",
      "\n",
      "Loaded MIP start from previous solve with objective 367.027\n",
      "\n",
      "Presolve removed 27 rows and 0 columns\n",
      "Presolve time: 0.00s\n",
      "Presolved: 5 rows, 4 columns, 17 nonzeros\n",
      "Variable types: 0 continuous, 4 integer (0 binary)\n",
      "\n",
      "Root relaxation: objective 3.644681e+02, 2 iterations, 0.00 seconds\n",
      "\n",
      "    Nodes    |    Current Node    |     Objective Bounds      |     Work\n",
      " Expl Unexpl |  Obj  Depth IntInf | Incumbent    BestBd   Gap | It/Node Time\n",
      "\n",
      "     0     0  364.46811    0    2  367.02700  364.46811  0.70%     -    0s\n",
      "     0     0          -    0       367.02700  367.02700  0.00%     -    0s\n",
      "\n",
      "Optimal solution found at node 0 - now completing solution pool...\n",
      "\n",
      "    Nodes    |    Current Node    |      Pool Obj. Bounds     |     Work\n",
      "             |                    |   Worst                   |\n",
      " Expl Unexpl |  Obj  Depth IntInf | Incumbent    BestBd   Gap | It/Node Time\n",
      "\n",
      "     0     0          -    0               -  367.02700      -     -    0s\n",
      "     0     0          -    0               -  367.02700      -     -    0s\n",
      "     0     2          -    0               -  367.02700      -     -    0s\n",
      "\n",
      "Cutting planes:\n",
      "  MIR: 2\n",
      "  StrongCG: 1\n",
      "\n",
      "Explored 1535 nodes (78 simplex iterations) in 0.50 seconds\n",
      "Thread count was 4 (of 4 available processors)\n",
      "\n",
      "Solution count 100: 367.027 368.843 370.115 ... 384.827\n",
      "No other solutions better than 384.827\n",
      "\n",
      "Optimal solution found (tolerance 1.00e-04)\n",
      "Best objective 3.670270000000e+02, best bound 3.670270000000e+02, gap 0.0000%\n"
     ]
    }
   ],
   "source": [
    "m1.optimize()"
   ]
  },
  {
   "cell_type": "code",
   "execution_count": 18,
   "metadata": {},
   "outputs": [
    {
     "name": "stdout",
     "output_type": "stream",
     "text": [
      "Number of solutions found: 100\n"
     ]
    }
   ],
   "source": [
    "nSolutions = m1.SolCount\n",
    "print('Number of solutions found: ' + str(nSolutions))"
   ]
  },
  {
   "cell_type": "code",
   "execution_count": 46,
   "metadata": {},
   "outputs": [
    {
     "name": "stdout",
     "output_type": "stream",
     "text": [
      "['Solution rank = 0', 'Grass_p = 0', 'Shurb_p = 13', 'Tree_p = 8', 'Soil_p = 64', ('ET = 316.86', 'LST = 50.167', 'PSV = 688.275', 'ET + LST = 367.027')]\n",
      "['Solution rank = 1', 'Grass_p = -0', 'Shurb_p = 13', 'Tree_p = 8', 'Soil_p = 63', ('ET = 318.676', 'LST = 50.167', 'PSV = 675.978', 'ET + LST = 368.843')]\n",
      "['Solution rank = 2', 'Grass_p = -0', 'Shurb_p = 11', 'Tree_p = 9', 'Soil_p = 65', ('ET = 319.929', 'LST = 50.186', 'PSV = 664.956', 'ET + LST = 370.115')]\n",
      "['Solution rank = 3', 'Grass_p = -0', 'Shurb_p = 13', 'Tree_p = 8', 'Soil_p = 62', ('ET = 320.492', 'LST = 50.167', 'PSV = 663.681', 'ET + LST = 370.659')]\n",
      "['Solution rank = 4', 'Grass_p = -0', 'Shurb_p = 12', 'Tree_p = 9', 'Soil_p = 64', ('ET = 321.745', 'LST = 50.059', 'PSV = 680.316', 'ET + LST = 371.804')]\n",
      "['Solution rank = 5', 'Grass_p = -0', 'Shurb_p = 11', 'Tree_p = 9', 'Soil_p = 64', ('ET = 321.745', 'LST = 50.186', 'PSV = 652.659', 'ET + LST = 371.931')]\n",
      "['Solution rank = 6', 'Grass_p = -0', 'Shurb_p = 13', 'Tree_p = 8', 'Soil_p = 61', ('ET = 322.308', 'LST = 50.167', 'PSV = 651.384', 'ET + LST = 372.475')]\n",
      "['Solution rank = 7', 'Grass_p = -0', 'Shurb_p = 13', 'Tree_p = 9', 'Soil_p = 63', ('ET = 323.561', 'LST = 49.932', 'PSV = 695.676', 'ET + LST = 373.493')]\n",
      "['Solution rank = 8', 'Grass_p = -0', 'Shurb_p = 12', 'Tree_p = 9', 'Soil_p = 63', ('ET = 323.561', 'LST = 50.059', 'PSV = 668.019', 'ET + LST = 373.62')]\n",
      "['Solution rank = 9', 'Grass_p = -0', 'Shurb_p = 11', 'Tree_p = 9', 'Soil_p = 63', ('ET = 323.561', 'LST = 50.186', 'PSV = 640.362', 'ET + LST = 373.747')]\n",
      "['Solution rank = 10', 'Grass_p = -0', 'Shurb_p = 13', 'Tree_p = 8', 'Soil_p = 60', ('ET = 324.124', 'LST = 50.167', 'PSV = 639.087', 'ET + LST = 374.291')]\n",
      "['Solution rank = 11', 'Grass_p = -0', 'Shurb_p = 10', 'Tree_p = 10', 'Soil_p = 65', ('ET = 324.814', 'LST = 50.078', 'PSV = 656.997', 'ET + LST = 374.892')]\n",
      "['Solution rank = 12', 'Grass_p = -0', 'Shurb_p = 9', 'Tree_p = 10', 'Soil_p = 65', ('ET = 324.814', 'LST = 50.205', 'PSV = 629.34', 'ET + LST = 375.019')]\n",
      "['Solution rank = 13', 'Grass_p = -0', 'Shurb_p = 13', 'Tree_p = 9', 'Soil_p = 62', ('ET = 325.377', 'LST = 49.932', 'PSV = 683.379', 'ET + LST = 375.309')]\n",
      "['Solution rank = 14', 'Grass_p = -0', 'Shurb_p = 12', 'Tree_p = 9', 'Soil_p = 62', ('ET = 325.377', 'LST = 50.059', 'PSV = 655.722', 'ET + LST = 375.436')]\n",
      "['Solution rank = 15', 'Grass_p = -0', 'Shurb_p = 11', 'Tree_p = 9', 'Soil_p = 62', ('ET = 325.377', 'LST = 50.186', 'PSV = 628.065', 'ET + LST = 375.563')]\n",
      "['Solution rank = 16', 'Grass_p = 1', 'Shurb_p = 12', 'Tree_p = 8', 'Soil_p = 64', ('ET = 325.634', 'LST = 50.163', 'PSV = 713.256', 'ET + LST = 375.797')]\n",
      "['Solution rank = 17', 'Grass_p = -0', 'Shurb_p = 13', 'Tree_p = 8', 'Soil_p = 59', ('ET = 325.94', 'LST = 50.167', 'PSV = 626.79', 'ET + LST = 376.107')]\n",
      "['Solution rank = 18', 'Grass_p = -0', 'Shurb_p = 11', 'Tree_p = 10', 'Soil_p = 64', ('ET = 326.63', 'LST = 49.951', 'PSV = 672.357', 'ET + LST = 376.581')]\n",
      "['Solution rank = 19', 'Grass_p = -0', 'Shurb_p = 10', 'Tree_p = 10', 'Soil_p = 64', ('ET = 326.63', 'LST = 50.078', 'PSV = 644.7', 'ET + LST = 376.708')]\n",
      "['Solution rank = 20', 'Grass_p = -0', 'Shurb_p = 9', 'Tree_p = 10', 'Soil_p = 64', ('ET = 326.63', 'LST = 50.205', 'PSV = 617.043', 'ET + LST = 376.835')]\n",
      "['Solution rank = 21', 'Grass_p = -0', 'Shurb_p = 13', 'Tree_p = 9', 'Soil_p = 61', ('ET = 327.193', 'LST = 49.932', 'PSV = 671.082', 'ET + LST = 377.125')]\n",
      "['Solution rank = 22', 'Grass_p = -0', 'Shurb_p = 12', 'Tree_p = 9', 'Soil_p = 61', ('ET = 327.193', 'LST = 50.059', 'PSV = 643.425', 'ET + LST = 377.252')]\n",
      "['Solution rank = 23', 'Grass_p = -0', 'Shurb_p = 11', 'Tree_p = 9', 'Soil_p = 61', ('ET = 327.193', 'LST = 50.186', 'PSV = 615.768', 'ET + LST = 377.379')]\n",
      "['Solution rank = 24', 'Grass_p = 1', 'Shurb_p = 13', 'Tree_p = 8', 'Soil_p = 63', ('ET = 327.45', 'LST = 50.036', 'PSV = 728.616', 'ET + LST = 377.486')]\n",
      "['Solution rank = 25', 'Grass_p = 1', 'Shurb_p = 12', 'Tree_p = 8', 'Soil_p = 63', ('ET = 327.45', 'LST = 50.163', 'PSV = 700.959', 'ET + LST = 377.613')]\n",
      "['Solution rank = 26', 'Grass_p = -0', 'Shurb_p = 13', 'Tree_p = 8', 'Soil_p = 58', ('ET = 327.756', 'LST = 50.167', 'PSV = 614.493', 'ET + LST = 377.923')]\n",
      "['Solution rank = 27', 'Grass_p = -0', 'Shurb_p = 12', 'Tree_p = 10', 'Soil_p = 63', ('ET = 328.446', 'LST = 49.824', 'PSV = 687.717', 'ET + LST = 378.27')]\n",
      "['Solution rank = 28', 'Grass_p = -0', 'Shurb_p = 11', 'Tree_p = 10', 'Soil_p = 63', ('ET = 328.446', 'LST = 49.951', 'PSV = 660.06', 'ET + LST = 378.397')]\n",
      "['Solution rank = 29', 'Grass_p = -0', 'Shurb_p = 10', 'Tree_p = 10', 'Soil_p = 63', ('ET = 328.446', 'LST = 50.078', 'PSV = 632.403', 'ET + LST = 378.524')]\n",
      "['Solution rank = 30', 'Grass_p = -0', 'Shurb_p = 9', 'Tree_p = 10', 'Soil_p = 63', ('ET = 328.446', 'LST = 50.205', 'PSV = 604.746', 'ET + LST = 378.651')]\n",
      "['Solution rank = 31', 'Grass_p = 1', 'Shurb_p = 10', 'Tree_p = 9', 'Soil_p = 65', ('ET = 328.703', 'LST = 50.182', 'PSV = 689.937', 'ET + LST = 378.885')]\n",
      "['Solution rank = 32', 'Grass_p = -0', 'Shurb_p = 13', 'Tree_p = 9', 'Soil_p = 60', ('ET = 329.009', 'LST = 49.932', 'PSV = 658.785', 'ET + LST = 378.941')]\n",
      "['Solution rank = 33', 'Grass_p = -0', 'Shurb_p = 12', 'Tree_p = 9', 'Soil_p = 60', ('ET = 329.009', 'LST = 50.059', 'PSV = 631.128', 'ET + LST = 379.068')]\n",
      "['Solution rank = 34', 'Grass_p = -0', 'Shurb_p = 11', 'Tree_p = 9', 'Soil_p = 60', ('ET = 329.009', 'LST = 50.186', 'PSV = 603.471', 'ET + LST = 379.195')]\n",
      "['Solution rank = 35', 'Grass_p = 1', 'Shurb_p = 13', 'Tree_p = 8', 'Soil_p = 62', ('ET = 329.266', 'LST = 50.036', 'PSV = 716.319', 'ET + LST = 379.302')]\n",
      "['Solution rank = 36', 'Grass_p = 1', 'Shurb_p = 12', 'Tree_p = 8', 'Soil_p = 62', ('ET = 329.266', 'LST = 50.163', 'PSV = 688.662', 'ET + LST = 379.429')]\n",
      "['Solution rank = 37', 'Grass_p = -0', 'Shurb_p = 9', 'Tree_p = 11', 'Soil_p = 65', ('ET = 329.699', 'LST = 49.97', 'PSV = 649.038', 'ET + LST = 379.669')]\n",
      "['Solution rank = 38', 'Grass_p = -0', 'Shurb_p = 13', 'Tree_p = 8', 'Soil_p = 57', ('ET = 329.572', 'LST = 50.167', 'PSV = 602.196', 'ET + LST = 379.739')]\n",
      "['Solution rank = 39', 'Grass_p = -0', 'Shurb_p = 8', 'Tree_p = 11', 'Soil_p = 65', ('ET = 329.699', 'LST = 50.097', 'PSV = 621.381', 'ET + LST = 379.796')]\n",
      "['Solution rank = 40', 'Grass_p = -0', 'Shurb_p = 7', 'Tree_p = 11', 'Soil_p = 65', ('ET = 329.699', 'LST = 50.224', 'PSV = 593.724', 'ET + LST = 379.923')]\n",
      "['Solution rank = 41', 'Grass_p = -0', 'Shurb_p = 13', 'Tree_p = 10', 'Soil_p = 62', ('ET = 330.262', 'LST = 49.697', 'PSV = 703.077', 'ET + LST = 379.959')]\n",
      "['Solution rank = 42', 'Grass_p = -0', 'Shurb_p = 12', 'Tree_p = 10', 'Soil_p = 62', ('ET = 330.262', 'LST = 49.824', 'PSV = 675.42', 'ET + LST = 380.086')]\n",
      "['Solution rank = 43', 'Grass_p = -0', 'Shurb_p = 11', 'Tree_p = 10', 'Soil_p = 62', ('ET = 330.262', 'LST = 49.951', 'PSV = 647.763', 'ET + LST = 380.213')]\n",
      "['Solution rank = 44', 'Grass_p = -0', 'Shurb_p = 10', 'Tree_p = 10', 'Soil_p = 62', ('ET = 330.262', 'LST = 50.078', 'PSV = 620.106', 'ET + LST = 380.34')]\n",
      "['Solution rank = 45', 'Grass_p = -0', 'Shurb_p = 9', 'Tree_p = 10', 'Soil_p = 62', ('ET = 330.262', 'LST = 50.205', 'PSV = 592.449', 'ET + LST = 380.467')]\n",
      "['Solution rank = 46', 'Grass_p = 1', 'Shurb_p = 11', 'Tree_p = 9', 'Soil_p = 64', ('ET = 330.519', 'LST = 50.055', 'PSV = 705.297', 'ET + LST = 380.574')]\n",
      "['Solution rank = 47', 'Grass_p = 1', 'Shurb_p = 10', 'Tree_p = 9', 'Soil_p = 64', ('ET = 330.519', 'LST = 50.182', 'PSV = 677.64', 'ET + LST = 380.701')]\n",
      "['Solution rank = 48', 'Grass_p = -0', 'Shurb_p = 13', 'Tree_p = 9', 'Soil_p = 59', ('ET = 330.825', 'LST = 49.932', 'PSV = 646.488', 'ET + LST = 380.757')]\n",
      "['Solution rank = 49', 'Grass_p = -0', 'Shurb_p = 12', 'Tree_p = 9', 'Soil_p = 59', ('ET = 330.825', 'LST = 50.059', 'PSV = 618.831', 'ET + LST = 380.884')]\n",
      "['Solution rank = 50', 'Grass_p = -0', 'Shurb_p = 11', 'Tree_p = 9', 'Soil_p = 59', ('ET = 330.825', 'LST = 50.186', 'PSV = 591.174', 'ET + LST = 381.011')]\n",
      "['Solution rank = 51', 'Grass_p = 1', 'Shurb_p = 13', 'Tree_p = 8', 'Soil_p = 61', ('ET = 331.082', 'LST = 50.036', 'PSV = 704.022', 'ET + LST = 381.118')]\n",
      "['Solution rank = 52', 'Grass_p = 1', 'Shurb_p = 12', 'Tree_p = 8', 'Soil_p = 61', ('ET = 331.082', 'LST = 50.163', 'PSV = 676.365', 'ET + LST = 381.245')]\n",
      "['Solution rank = 53', 'Grass_p = -0', 'Shurb_p = 10', 'Tree_p = 11', 'Soil_p = 64', ('ET = 331.515', 'LST = 49.843', 'PSV = 664.398', 'ET + LST = 381.358')]\n",
      "['Solution rank = 54', 'Grass_p = 2', 'Shurb_p = 13', 'Tree_p = 7', 'Soil_p = 63', ('ET = 331.339', 'LST = 50.14', 'PSV = 761.556', 'ET + LST = 381.479')]\n",
      "['Solution rank = 55', 'Grass_p = -0', 'Shurb_p = 9', 'Tree_p = 11', 'Soil_p = 64', ('ET = 331.515', 'LST = 49.97', 'PSV = 636.741', 'ET + LST = 381.485')]\n",
      "['Solution rank = 56', 'Grass_p = -0', 'Shurb_p = 13', 'Tree_p = 8', 'Soil_p = 56', ('ET = 331.388', 'LST = 50.167', 'PSV = 589.899', 'ET + LST = 381.555')]\n",
      "['Solution rank = 57', 'Grass_p = -0', 'Shurb_p = 8', 'Tree_p = 11', 'Soil_p = 64', ('ET = 331.515', 'LST = 50.097', 'PSV = 609.084', 'ET + LST = 381.612')]\n",
      "['Solution rank = 58', 'Grass_p = -0', 'Shurb_p = 7', 'Tree_p = 11', 'Soil_p = 64', ('ET = 331.515', 'LST = 50.224', 'PSV = 581.427', 'ET + LST = 381.739')]\n",
      "['Solution rank = 59', 'Grass_p = -0', 'Shurb_p = 13', 'Tree_p = 10', 'Soil_p = 61', ('ET = 332.078', 'LST = 49.697', 'PSV = 690.78', 'ET + LST = 381.775')]\n",
      "['Solution rank = 60', 'Grass_p = -0', 'Shurb_p = 12', 'Tree_p = 10', 'Soil_p = 61', ('ET = 332.078', 'LST = 49.824', 'PSV = 663.123', 'ET + LST = 381.902')]\n",
      "['Solution rank = 61', 'Grass_p = -0', 'Shurb_p = 11', 'Tree_p = 10', 'Soil_p = 61', ('ET = 332.078', 'LST = 49.951', 'PSV = 635.466', 'ET + LST = 382.029')]\n",
      "['Solution rank = 62', 'Grass_p = -0', 'Shurb_p = 10', 'Tree_p = 10', 'Soil_p = 61', ('ET = 332.078', 'LST = 50.078', 'PSV = 607.809', 'ET + LST = 382.156')]\n",
      "['Solution rank = 63', 'Grass_p = 1', 'Shurb_p = 12', 'Tree_p = 9', 'Soil_p = 63', ('ET = 332.335', 'LST = 49.928', 'PSV = 720.657', 'ET + LST = 382.263')]\n",
      "['Solution rank = 64', 'Grass_p = -0', 'Shurb_p = 9', 'Tree_p = 10', 'Soil_p = 61', ('ET = 332.078', 'LST = 50.205', 'PSV = 580.152', 'ET + LST = 382.283')]\n",
      "['Solution rank = 65', 'Grass_p = 1', 'Shurb_p = 11', 'Tree_p = 9', 'Soil_p = 63', ('ET = 332.335', 'LST = 50.055', 'PSV = 693', 'ET + LST = 382.39')]\n",
      "['Solution rank = 66', 'Grass_p = 1', 'Shurb_p = 10', 'Tree_p = 9', 'Soil_p = 63', ('ET = 332.335', 'LST = 50.182', 'PSV = 665.343', 'ET + LST = 382.517')]\n",
      "['Solution rank = 67', 'Grass_p = -0', 'Shurb_p = 13', 'Tree_p = 9', 'Soil_p = 58', ('ET = 332.641', 'LST = 49.932', 'PSV = 634.191', 'ET + LST = 382.573')]\n",
      "['Solution rank = 68', 'Grass_p = -0', 'Shurb_p = 12', 'Tree_p = 9', 'Soil_p = 58', ('ET = 332.641', 'LST = 50.059', 'PSV = 606.534', 'ET + LST = 382.7')]\n",
      "['Solution rank = 69', 'Grass_p = -0', 'Shurb_p = 11', 'Tree_p = 9', 'Soil_p = 58', ('ET = 332.641', 'LST = 50.186', 'PSV = 578.877', 'ET + LST = 382.827')]\n",
      "['Solution rank = 70', 'Grass_p = 1', 'Shurb_p = 13', 'Tree_p = 8', 'Soil_p = 60', ('ET = 332.898', 'LST = 50.036', 'PSV = 691.725', 'ET + LST = 382.934')]\n",
      "['Solution rank = 71', 'Grass_p = -0', 'Shurb_p = 11', 'Tree_p = 11', 'Soil_p = 63', ('ET = 333.331', 'LST = 49.716', 'PSV = 679.758', 'ET + LST = 383.047')]\n",
      "['Solution rank = 72', 'Grass_p = 1', 'Shurb_p = 12', 'Tree_p = 8', 'Soil_p = 60', ('ET = 332.898', 'LST = 50.163', 'PSV = 664.068', 'ET + LST = 383.061')]\n",
      "['Solution rank = 73', 'Grass_p = -0', 'Shurb_p = 10', 'Tree_p = 11', 'Soil_p = 63', ('ET = 333.331', 'LST = 49.843', 'PSV = 652.101', 'ET + LST = 383.174')]\n",
      "['Solution rank = 74', 'Grass_p = 2', 'Shurb_p = 13', 'Tree_p = 7', 'Soil_p = 62', ('ET = 333.155', 'LST = 50.14', 'PSV = 749.259', 'ET + LST = 383.295')]\n",
      "['Solution rank = 75', 'Grass_p = -0', 'Shurb_p = 9', 'Tree_p = 11', 'Soil_p = 63', ('ET = 333.331', 'LST = 49.97', 'PSV = 624.444', 'ET + LST = 383.301')]\n",
      "['Solution rank = 76', 'Grass_p = -0', 'Shurb_p = 13', 'Tree_p = 8', 'Soil_p = 55', ('ET = 333.204', 'LST = 50.167', 'PSV = 577.602', 'ET + LST = 383.371')]\n",
      "['Solution rank = 77', 'Grass_p = -0', 'Shurb_p = 8', 'Tree_p = 11', 'Soil_p = 63', ('ET = 333.331', 'LST = 50.097', 'PSV = 596.787', 'ET + LST = 383.428')]\n",
      "['Solution rank = 78', 'Grass_p = -0', 'Shurb_p = 7', 'Tree_p = 11', 'Soil_p = 63', ('ET = 333.331', 'LST = 50.224', 'PSV = 569.13', 'ET + LST = 383.555')]\n",
      "['Solution rank = 79', 'Grass_p = -0', 'Shurb_p = 13', 'Tree_p = 10', 'Soil_p = 60', ('ET = 333.894', 'LST = 49.697', 'PSV = 678.483', 'ET + LST = 383.591')]\n",
      "['Solution rank = 80', 'Grass_p = 1', 'Shurb_p = 9', 'Tree_p = 10', 'Soil_p = 65', ('ET = 333.588', 'LST = 50.074', 'PSV = 681.978', 'ET + LST = 383.662')]\n",
      "['Solution rank = 81', 'Grass_p = -0', 'Shurb_p = 12', 'Tree_p = 10', 'Soil_p = 60', ('ET = 333.894', 'LST = 49.824', 'PSV = 650.826', 'ET + LST = 383.718')]\n",
      "['Solution rank = 82', 'Grass_p = 1', 'Shurb_p = 8', 'Tree_p = 10', 'Soil_p = 65', ('ET = 333.588', 'LST = 50.201', 'PSV = 654.321', 'ET + LST = 383.789')]\n",
      "['Solution rank = 83', 'Grass_p = -0', 'Shurb_p = 11', 'Tree_p = 10', 'Soil_p = 60', ('ET = 333.894', 'LST = 49.951', 'PSV = 623.169', 'ET + LST = 383.845')]\n",
      "['Solution rank = 84', 'Grass_p = 1', 'Shurb_p = 13', 'Tree_p = 9', 'Soil_p = 62', ('ET = 334.151', 'LST = 49.801', 'PSV = 736.017', 'ET + LST = 383.952')]\n",
      "['Solution rank = 85', 'Grass_p = -0', 'Shurb_p = 10', 'Tree_p = 10', 'Soil_p = 60', ('ET = 333.894', 'LST = 50.078', 'PSV = 595.512', 'ET + LST = 383.972')]\n",
      "['Solution rank = 86', 'Grass_p = 1', 'Shurb_p = 12', 'Tree_p = 9', 'Soil_p = 62', ('ET = 334.151', 'LST = 49.928', 'PSV = 708.36', 'ET + LST = 384.079')]\n",
      "['Solution rank = 87', 'Grass_p = -0', 'Shurb_p = 9', 'Tree_p = 10', 'Soil_p = 60', ('ET = 333.894', 'LST = 50.205', 'PSV = 567.855', 'ET + LST = 384.099')]\n",
      "['Solution rank = 88', 'Grass_p = 1', 'Shurb_p = 11', 'Tree_p = 9', 'Soil_p = 62', ('ET = 334.151', 'LST = 50.055', 'PSV = 680.703', 'ET + LST = 384.206')]\n",
      "['Solution rank = 89', 'Grass_p = 1', 'Shurb_p = 10', 'Tree_p = 9', 'Soil_p = 62', ('ET = 334.151', 'LST = 50.182', 'PSV = 653.046', 'ET + LST = 384.333')]\n",
      "['Solution rank = 90', 'Grass_p = -0', 'Shurb_p = 13', 'Tree_p = 9', 'Soil_p = 57', ('ET = 334.457', 'LST = 49.932', 'PSV = 621.894', 'ET + LST = 384.389')]\n",
      "['Solution rank = 91', 'Grass_p = -0', 'Shurb_p = 8', 'Tree_p = 12', 'Soil_p = 65', ('ET = 334.584', 'LST = 49.862', 'PSV = 641.079', 'ET + LST = 384.446')]\n",
      "['Solution rank = 92', 'Grass_p = -0', 'Shurb_p = 12', 'Tree_p = 9', 'Soil_p = 57', ('ET = 334.457', 'LST = 50.059', 'PSV = 594.237', 'ET + LST = 384.516')]\n",
      "['Solution rank = 93', 'Grass_p = 2', 'Shurb_p = 11', 'Tree_p = 8', 'Soil_p = 64', ('ET = 334.408', 'LST = 50.159', 'PSV = 738.237', 'ET + LST = 384.567')]\n",
      "['Solution rank = 94', 'Grass_p = -0', 'Shurb_p = 7', 'Tree_p = 12', 'Soil_p = 65', ('ET = 334.584', 'LST = 49.989', 'PSV = 613.422', 'ET + LST = 384.573')]\n",
      "['Solution rank = 95', 'Grass_p = -0', 'Shurb_p = 11', 'Tree_p = 9', 'Soil_p = 57', ('ET = 334.457', 'LST = 50.186', 'PSV = 566.58', 'ET + LST = 384.643')]\n",
      "['Solution rank = 96', 'Grass_p = -0', 'Shurb_p = 6', 'Tree_p = 12', 'Soil_p = 65', ('ET = 334.584', 'LST = 50.116', 'PSV = 585.765', 'ET + LST = 384.7')]\n",
      "['Solution rank = 97', 'Grass_p = -0', 'Shurb_p = 12', 'Tree_p = 11', 'Soil_p = 62', ('ET = 335.147', 'LST = 49.589', 'PSV = 695.118', 'ET + LST = 384.736')]\n",
      "['Solution rank = 98', 'Grass_p = 1', 'Shurb_p = 13', 'Tree_p = 8', 'Soil_p = 59', ('ET = 334.714', 'LST = 50.036', 'PSV = 679.428', 'ET + LST = 384.75')]\n",
      "['Solution rank = 99', 'Grass_p = -0', 'Shurb_p = 5', 'Tree_p = 12', 'Soil_p = 65', ('ET = 334.584', 'LST = 50.243', 'PSV = 558.108', 'ET + LST = 384.827')]\n"
     ]
    }
   ],
   "source": [
    "# https://www.gurobi.com/documentation/9.0/refman/retrieving_solutions.html\n",
    "# https://stackabuse.com/reading-and-writing-lists-to-a-file-in-python/\n",
    "myfile = open('top100solutions-add.txt', 'w')\n",
    "for e in range(nSolutions):\n",
    "    m1.setParam(GRB.Param.SolutionNumber, e)\n",
    "#    print(type(e))\n",
    "#    print('%g ' % m1.PoolObjVal, end='')\n",
    "    v = m1.getVars()\n",
    "    x1 = v[0].Xn\n",
    "    x2 = v[1].Xn\n",
    "    x3 = v[2].Xn\n",
    "    x4 = v[3].Xn\n",
    "    sol = [x1,x2,x3,x4]\n",
    "    allsol = ['Solution rank = %g' %e,'Grass_p = %g' %x1,'Shurb_p = %g' %x2,'Tree_p = %g' %x3,'Soil_p = %g' %x4,Value(sol)]\n",
    "    print(allsol)\n",
    "#    myfile.write('%s\\n' %allsol)\n",
    "#    print(Value(sol))\n",
    "#    m1.printAttr('Xn')\n",
    "myfile.close()"
   ]
  },
  {
   "cell_type": "code",
   "execution_count": null,
   "metadata": {},
   "outputs": [],
   "source": []
  }
 ],
 "metadata": {
  "kernelspec": {
   "display_name": "Python 3",
   "language": "python",
   "name": "python3"
  },
  "language_info": {
   "codemirror_mode": {
    "name": "ipython",
    "version": 3
   },
   "file_extension": ".py",
   "mimetype": "text/x-python",
   "name": "python",
   "nbconvert_exporter": "python",
   "pygments_lexer": "ipython3",
   "version": "3.7.6"
  }
 },
 "nbformat": 4,
 "nbformat_minor": 4
}
